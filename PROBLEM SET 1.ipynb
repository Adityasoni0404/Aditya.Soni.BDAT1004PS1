{
 "cells": [
  {
   "cell_type": "markdown",
   "metadata": {},
   "source": [
    "#                                                Assignemnt 1 \n",
    "                        "
   ]
  },
  {
   "cell_type": "markdown",
   "metadata": {},
   "source": [
    "# Question 1  \n",
    "\n",
    "\n"
   ]
  },
  {
   "cell_type": "markdown",
   "metadata": {},
   "source": [
    "What data type is each of the following?\n",
    "\n",
    "\n",
    "5               -                    Integer\n",
    "\n",
    "5.0             -                    Double\n",
    "  \n",
    "5 > 1           -                    Integer\n",
    "\n",
    "'5'             -                    String\n",
    "\n",
    "5 * 2           -                    Integer\n",
    "\n",
    "'5' * 2         -                    String\n",
    "\n",
    "'5' + '2'       -                    String\n",
    "\n",
    "5 / 2           -                    Float\n",
    "\n",
    "5 // 2          -                    Intger\n",
    "\n",
    "[5, 2, 1]                   -        List\n",
    "\n",
    "5 in [1, 4, 6]   -                   Integer\n",
    "\n",
    "Pi (the number)  -                   Double"
   ]
  },
  {
   "cell_type": "markdown",
   "metadata": {},
   "source": [
    "# Question 2\n",
    "\n",
    "Write (and evaluate) C# expressions that answer these questions:\n",
    "\n",
    "a. How many letters are there in 'Supercalifragilisticexpialidocious'?\n",
    "\n",
    "b. Does 'Supercalifragilisticexpialidocious' contain 'ice' as a substring? \n",
    "\n",
    "c. Which of the following words is the longest:\n",
    "Supercalifragilisticexpialidocious, Honorificabilitudinitatibus, or\n",
    "Bababadalgharaghtakamminarronnkonn?\n",
    "\n",
    "d. Which composer comes first in the dictionary: 'Berlioz', 'Borodin', 'Brian',\n",
    "'Bartok', 'Bellini', 'Buxtehude', 'Bernstein'. Which one comes last?"
   ]
  },
  {
   "cell_type": "markdown",
   "metadata": {},
   "source": [
    "# A. Answer\n",
    "\n",
    "\n",
    "using System;\n",
    "\n",
    "namespace stringLenght\n",
    "\n",
    "{\n",
    "    class Program\n",
    "    \n",
    "    {\n",
    "        static void Main(string[] args)\n",
    "        \n",
    "        {\n",
    "            string txt = \"Supercalifragilisticexpialidocious\";\n",
    "            \n",
    "            Console.WriteLine(\"The length of the txt string is: \" + txt.Length);\n",
    "            \n",
    "        }\n",
    "    }\n",
    "}"
   ]
  },
  {
   "cell_type": "markdown",
   "metadata": {},
   "source": [
    "<center><img src=\"Screenshot1.png\"></center>"
   ]
  },
  {
   "cell_type": "markdown",
   "metadata": {},
   "source": [
    "# B. Answer\n",
    "\n",
    "\n",
    "using System;\n",
    "\n",
    "\n",
    "namespace find_substring\n",
    "\n",
    "{\n",
    "\n",
    "    class Program\n",
    "    \n",
    "    {\n",
    "        static void Main(string[] args)\n",
    "        \n",
    "        {\n",
    "        \n",
    "            string txt = \"Supercalifragilisticexpialidocious\";\n",
    "            \n",
    "         \n",
    "                \n",
    "                Console.WriteLine(txt.Contains(\"ice\"));    \n",
    "                \n",
    "        \n",
    "        }\n",
    "    }\n",
    "}"
   ]
  },
  {
   "cell_type": "markdown",
   "metadata": {},
   "source": [
    "<center><img src=\"Screenshot2.png\"></center>"
   ]
  },
  {
   "cell_type": "markdown",
   "metadata": {},
   "source": [
    "# C Answer"
   ]
  },
  {
   "cell_type": "code",
   "execution_count": null,
   "metadata": {},
   "outputs": [],
   "source": [
    "{\n",
    "    class Program\n",
    "    {\n",
    "        \n",
    "\n",
    "        static void Main(string[] args)\n",
    "        {\n",
    "            string txt = \"Supercalifragilisticexpialidocious\";\n",
    "\n",
    "            Console.WriteLine(\"The length of the txt string is: \" + txt.Length);\n",
    "            int a = txt.Length;\n",
    "\n",
    "            string txt1 = \"Honorificabilitudinitatibus\";\n",
    "\n",
    "            Console.WriteLine(\"The length of the txt string is: \" + txt1.Length);\n",
    "            int b = txt1.Length;\n",
    "\n",
    "            string txt2 = \"Bababadalgharaghtakamminarronnkonn\";\n",
    "            int c = txt2.Length;\n",
    "\n",
    "            Console.WriteLine(\"The length of the txt string is: \" + txt2.Length);\n",
    "\n",
    "            if (a>b||a>c)\n",
    "                Console.WriteLine(\"largest is :Supercalifragilisticexpialidocious\");\n",
    "            else\n",
    "                if(b>a||b>c)\n",
    "                Console.WriteLine(\"largest is :Honorificabilitudinitatibus\");\n",
    "                else\n",
    "                Console.WriteLine(\"largest is :Bababadalgharaghtakamminarronnkonn\");\n",
    "                 "
   ]
  },
  {
   "cell_type": "markdown",
   "metadata": {},
   "source": [
    "   <center><img src=\"Screenshot6.png\"></center>"
   ]
  },
  {
   "cell_type": "markdown",
   "metadata": {},
   "source": [
    "# Question 3 \n",
    "\n",
    "Implement function triangleArea(a,b,c) that takes as input the lengths of the 3\n",
    "sides of a triangle and returns the area of the triangle. By Heron's formula, the area\n",
    "of a triangle with side lengths a, b, and c is\n",
    "s(s - a)(s -b)(s -c)\n",
    ", where\n",
    "s = (a+b+c)/2. "
   ]
  },
  {
   "cell_type": "markdown",
   "metadata": {},
   "source": [
    " # Answer\n",
    "\n",
    "class Program\n",
    "    {\n",
    "        static void Main(string[] args)\n",
    "        \n",
    "        {\n",
    "        \n",
    "            double a, b, c, s, area;\n",
    "            \n",
    "            Console.WriteLine(\"Enter side #1\");\n",
    "            a = double.Parse(Console.ReadLine());\n",
    "            Console.WriteLine(\"Enter side #2\");\n",
    "            b = double.Parse(Console.ReadLine());\n",
    "            Console.WriteLine(\"Enter side #3\");\n",
    "            c = double.Parse(Console.ReadLine());\n",
    "            s = (a + b + c) / 2;\n",
    "           area=Math.Sqrt(s * (s - a) * (s - b) * (s - c));\n",
    "\n",
    "\n",
    "            Console.WriteLine(\"Area = {0}\", area);\n",
    "        }\n",
    "    }\n",
    "}\n",
    "\n",
    "\n"
   ]
  },
  {
   "cell_type": "markdown",
   "metadata": {},
   "source": [
    "<center><img src=\"Screenshot4.png\"></center>"
   ]
  },
  {
   "cell_type": "markdown",
   "metadata": {},
   "source": [
    "# Question 4\n",
    "\n",
    "Write a program in C# Sharp to separate odd and even integers in separate arrays.\n",
    "Go to the editor\n",
    "Test Data :\n",
    "Input the number of elements to be stored in the array :5\n",
    "Input 5 elements in the array :\n",
    "element - 0 : 25\n",
    "element - 1 : 47\n",
    "element - 2 : 42\n",
    "element - 3 : 56\n",
    "element - 4 : 32\n"
   ]
  },
  {
   "cell_type": "markdown",
   "metadata": {},
   "source": [
    "# Answer \n",
    "\n",
    "namespace EVEN_ODD\n",
    "\n",
    "{\n",
    "    class Program\n",
    "    \n",
    "    {\n",
    "        static void Main(string[] args)\n",
    "        \n",
    "        {\n",
    "            int[] arr1 = new int[10];\n",
    "            \n",
    "            int[] arr2 = new int[10];\n",
    "            \n",
    "            int[] arr3 = new int[10];\n",
    "            \n",
    "            int i, j = 0, k = 0, n;\n",
    "\n",
    "\n",
    "        \n",
    "\n",
    "            Console.Write(\"Input the number of elements to be stored in the array :\");\n",
    "            \n",
    "            n = Convert.ToInt32(Console.ReadLine());\n",
    "\n",
    "            Console.Write(\"Input {0} elements in the array \", n);\n",
    "            \n",
    "            for (i = 0; i < n; i++)\n",
    "            {\n",
    "                Console.Write(\"element - {0} : \", i);\n",
    "                \n",
    "                arr1[i] = Convert.ToInt32(Console.ReadLine());\n",
    "            }\n",
    "\n",
    "            for (i = 0; i < n; i++)\n",
    "            \n",
    "            {\n",
    "                if (arr1[i] % 2 == 0)\n",
    "                \n",
    "                {\n",
    "                    arr2[j] = arr1[i];\n",
    "                    \n",
    "                    j++;\n",
    "                }\n",
    "                \n",
    "                else\n",
    "                {\n",
    "                    arr3[k] = arr1[i];\n",
    "                    \n",
    "                    k++;\n",
    "                }\n",
    "            }\n",
    "\n",
    "            Console.Write(\"The Even elements are \");\n",
    "            \n",
    "            for (i = 0; i < j; i++)\n",
    "            \n",
    "            {\n",
    "                Console.Write(\"{0} \", arr2[i]);\n",
    "                \n",
    "            }\n",
    "\n",
    "            Console.Write(\"The Odd elements are :\");\n",
    "            \n",
    "            for (i = 0; i < k; i++)\n",
    "            \n",
    "            {\n",
    "                Console.Write(\"{0} \", arr3[i]);\n",
    "                \n",
    "            }\n",
    "            \n",
    "            Console.Write(\"\");\n",
    "        }\n",
    "    }\n",
    "}"
   ]
  },
  {
   "cell_type": "markdown",
   "metadata": {},
   "source": [
    "<center><img src=\"Screenshot5.png\"></center>"
   ]
  },
  {
   "cell_type": "markdown",
   "metadata": {},
   "source": [
    "# QUESTION 6\n",
    "\n",
    " You can turn a word into pig-Latin using the following two rules (simplified):\n",
    "• If the word starts with a consonant, move that letter to the end and append\n",
    "'ay'. For example, 'happy' becomes 'appyhay' and 'pencil' becomes 'encilpay'.\n",
    "• If the word starts with a vowel, simply append 'way' to the end of the word.\n",
    "For example, 'enter' becomes 'enterway' and 'other' becomes 'otherway' . For\n",
    "our purposes, there are 5 vowels: a, e, i, o, u (so we count y as a consonant).\n",
    "Write a function pig() that takes a word (i.e., a string) as input and returns its pigLatin form. Your function should still work if the input word contains upper case\n",
    "characters. Your output should always be lower case however.\n",
    ">>> pig('happy')\n",
    "'appyhay'\n",
    ">>> pig('Enter')\n",
    "'enterway' \n",
    "\n"
   ]
  },
  {
   "cell_type": "code",
   "execution_count": 135,
   "metadata": {},
   "outputs": [
    {
     "name": "stdout",
     "output_type": "stream",
     "text": [
      "enter the word:aio\n",
      "aio\n",
      "aioway\n"
     ]
    }
   ],
   "source": [
    "\n",
    "\n",
    "\n",
    "vowels=[\"a\",\"e\",\"i\",\"o\",\"u\"]\n",
    "pig=input('enter the word:')\n",
    "pig=pig.lower()\n",
    "pigFirst=pig[0]\n",
    "print (pig)\n",
    "if pigFirst in vowels:\n",
    "  print(pig+'way')\n",
    "else: \n",
    "    print(pig[1:]+pig[0]+'ay')\n",
    "    "
   ]
  },
  {
   "cell_type": "markdown",
   "metadata": {},
   "source": [
    "# Question 9 Python\n",
    "\n",
    "Each of the following will cause an exception (an error). Identify what type of\n",
    "exception each will cause.\n",
    "\n",
    "Trying to add incompatible variables, as in adding 6 + ‘a’\n",
    "\n",
    "Referring to the 12th item of a list that has only 10 items\n",
    "\n",
    "Using a value that is out of range for a function’s input, such as calling math.sqrt(-1.0)\n",
    "\n",
    "Using an undeclared variable, such as print(x) when x has not been defined\n",
    "\n",
    "Trying to open a file that does not exist, such as mistyping the file name or looking in the wrong directory"
   ]
  },
  {
   "cell_type": "markdown",
   "metadata": {},
   "source": [
    "# Answer"
   ]
  },
  {
   "cell_type": "markdown",
   "metadata": {},
   "source": [
    " TypeError because of unsupported operand type \n",
    " \n",
    " Indexing Error\n",
    " \n",
    " ValueError\n",
    " \n",
    " NameError   (x is not defined)\n",
    " \n",
    " I/O ERROR\n",
    "\n",
    "\n",
    "\n",
    "\n"
   ]
  },
  {
   "cell_type": "markdown",
   "metadata": {},
   "source": [
    "# Question 10 Python\n",
    "Encryption is the process of hiding the meaning of a text by substituting letters in the\n",
    "message with other letters, according to some system. If the process is successful, no\n",
    "one but the intended recipient can understand the encrypted message. Cryptanalysis\n",
    "refers to attempts to undo the encryption, even if some details of the encryption are\n",
    "unknown (for example, if an encrypted message has been intercepted). The first step\n",
    "of cryptanalysis is often to build up a table of letter frequencies in the encrypted text.\n",
    "Assume that the string letters is already defined as\n",
    "'abcdefghijklmnopqrstuvwxyz'. Write a function called frequencies()\n",
    "that takes a string as its only parameter, and returns a list of integers, showing the\n",
    "number of times each character appears in the text. Your function may ignore any\n",
    "characters that are not in letters.\n",
    ">>> frequencies('The quick red fox got bored and went home.')\n",
    "[1, 1, 1, 3, 5, 1, 1, 2, 1, 0, 1, 0, 1, 2, 4, 0, 1, 2, 0, 2,\n",
    "1, 0, 1, 1, 0, 0]\n",
    ">>> frequencies('apple')"
   ]
  },
  {
   "cell_type": "code",
   "execution_count": 105,
   "metadata": {},
   "outputs": [
    {
     "name": "stdout",
     "output_type": "stream",
     "text": [
      "Enter the string: apple\n",
      "{'a': 1, 'p': 2, 'l': 1, 'e': 1}\n"
     ]
    }
   ],
   "source": [
    "word = input (\"Enter the string: \")\n",
    "d = dict()\n",
    "for c in word:\n",
    "    if c in d:\n",
    "        d[c] = d[c] + 1\n",
    "    else:\n",
    "        d[c] = 1\n",
    "print(d)"
   ]
  },
  {
   "cell_type": "code",
   "execution_count": null,
   "metadata": {},
   "outputs": [],
   "source": []
  }
 ],
 "metadata": {
  "kernelspec": {
   "display_name": "Python 3",
   "language": "python",
   "name": "python3"
  },
  "language_info": {
   "codemirror_mode": {
    "name": "ipython",
    "version": 3
   },
   "file_extension": ".py",
   "mimetype": "text/x-python",
   "name": "python",
   "nbconvert_exporter": "python",
   "pygments_lexer": "ipython3",
   "version": "3.8.5"
  }
 },
 "nbformat": 4,
 "nbformat_minor": 4
}
